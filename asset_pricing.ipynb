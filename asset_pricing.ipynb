{
 "cells": [
  {
   "cell_type": "markdown",
   "metadata": {},
   "source": [
    "# Asset Pricing\n",
    "\n",
    "The felicity function is $u(c) = 1 - c^{-1}$\n",
    "\n",
    "The set of states is $S + {s_1, s_2}$\n",
    "\n",
    "Let $c(s_1) = 1$ and $c(s_2) = 1.05$\n",
    "\n",
    "The subjective discount factor is $\\beta = 0.97$\n",
    "\n",
    "The return on the stock is $r = [1, 1.05]^T$\n",
    "\n",
    "M = [\n",
    "    [0.8, 0.2],\n",
    "    [0.1, 0.9]\n",
    "    ]"
   ]
  },
  {
   "cell_type": "code",
   "execution_count": 6,
   "metadata": {},
   "outputs": [],
   "source": [
    "import numpy as np\n",
    "import matplotlib.pyplot as plt\n",
    "import quantecon as qe"
   ]
  },
  {
   "cell_type": "code",
   "execution_count": 5,
   "metadata": {},
   "outputs": [
    {
     "data": {
      "image/png": "[encoded data removed]",
      "text/plain": [
       "<Figure size 640x480 with 1 Axes>"
      ]
     },
     "metadata": {},
     "output_type": "display_data"
    }
   ],
   "source": [
    "# graphing the felicity function\n",
    "\n",
    "def ff(c):\n",
    "    return 1 - c ** -1\n",
    "\n",
    "# Generate a range of values for c\n",
    "c_values = np.linspace(1.1, 10, 400)  # Avoid division by zero by starting from 1.1\n",
    "\n",
    "# Calculate the corresponding values of f(c)\n",
    "f_values = ff(c_values)\n",
    "\n",
    "# Create the plot\n",
    "plt.plot(c_values, f_values, label=r'$f(c) = 1 - c^{-1}$')\n",
    "plt.xlabel('c')\n",
    "plt.ylabel('u(c)')\n",
    "plt.title('Plot of the felicity function')\n",
    "plt.grid(True)\n",
    "plt.show()\n"
   ]
  },
  {
   "cell_type": "markdown",
   "metadata": {},
   "source": [
    "The felicity function represents diminishing returns to consumption"
   ]
  },
  {
   "cell_type": "markdown",
   "metadata": {},
   "source": [
    "# Asset Price Equation as a Function of the State\n",
    "\n",
    "The individuals utility is represented by $u(c_0 -qz) + \\beta[\\pi_1 u(c_1(s_1) + r_1 z) + \\pi_2u(c_1(s_2) + r_2z)]$\n",
    "\n",
    "where q = price, z = quantity purchased. We maximize with respect to z\n",
    "\n",
    "$\\implies 0 = -qu'(c_0-qz) + \\beta[\\pi_1 u'(c_1(s_1) + r_1 z)r_1 + \\pi_2u(c_1(s_2) + r_2 z)r_2]$\n",
    "\n",
    "Because the optimal price will lead us indifferent to buying a unit of the good, we set z = 0, to find \n",
    "\n",
    "$q = \\frac{\\beta}{u'(c_0)}[\\pi_1 u'(c_1(s_1))r_1 + \\pi_2u'(c_1(s_2))r_2]$\n",
    "\n",
    "The probabilities $\\pi_1$ and $\\pi_2$ will vary based on the current state, and are given to us in the markov matrix\n",
    "\n",
    "$$\n",
    "\\implies q(s_i) = \n",
    "\\begin{cases}\n",
    "\\frac{\\beta}{u'(c(s_1))}[(0.8) u'(c(s_1))r_1 + (0.2)u(c(s_2))r_2], & \\text{if  } i = 1 \\\\\n",
    "\\frac{\\beta}{u'(c(s_2))}[(0.1) u'(c(s_1))r_1 + (0.9)u(c(s_2))r_2], & \\text{if  } i = 2 \n",
    "\\end{cases}\n",
    "\n",
    "$$\n",
    "\n"
   ]
  },
  {
   "cell_type": "markdown",
   "metadata": {},
   "source": [
    "# Asset Price for Each state\n",
    "\n",
    "If we plug in the parameter values given above, we find the following;\n",
    "\n",
    "$q(s_1) = 0.97 (0.8 + 0.191) = 0.96$\n",
    "\n",
    "and $q(s_2) = 1.05$"
   ]
  },
  {
   "cell_type": "markdown",
   "metadata": {},
   "source": [
    "# Long-Run Distribution of States\n",
    "\n",
    "We can leverage the quant econ package to derive the stationary distribution for M. This is the distribution such that $[\\pi_1, \\pi_2]M = [\\pi_1, \\pi_2]$"
   ]
  },
  {
   "cell_type": "code",
   "execution_count": 7,
   "metadata": {},
   "outputs": [
    {
     "data": {
      "text/plain": [
       "array([[0.33333333, 0.66666667]])"
      ]
     },
     "execution_count": 7,
     "metadata": {},
     "output_type": "execute_result"
    }
   ],
   "source": [
    "M = [\n",
    "    [0.8, 0.2],\n",
    "    [0.1, 0.9]\n",
    "    ]\n",
    "\n",
    "mc = qe.MarkovChain(M)\n",
    "mc.stationary_distributions  # Show all stationary distributions"
   ]
  },
  {
   "cell_type": "markdown",
   "metadata": {},
   "source": [
    "# Long Run Average Price of Stock\n",
    "\n",
    "The long run average price of a stock will be determined by the stationary distribution. We simply take the expected value of the price;\n",
    "\n",
    "$E[q(s_i)] = \\pi_1 * q(s_1) + \\pi_2 * q(s_2) = 0.33 * 0.96 + 0.66 * 1.05 = 1.01$"
   ]
  }
 ],
 "metadata": {
  "kernelspec": {
   "display_name": ".venv",
   "language": "python",
   "name": "python3"
  },
  "language_info": {
   "codemirror_mode": {
    "name": "ipython",
    "version": 3
   },
   "file_extension": ".py",
   "mimetype": "text/x-python",
   "name": "python",
   "nbconvert_exporter": "python",
   "pygments_lexer": "ipython3",
   "version": "3.10.1"
  }
 },
 "nbformat": 4,
 "nbformat_minor": 2
}
